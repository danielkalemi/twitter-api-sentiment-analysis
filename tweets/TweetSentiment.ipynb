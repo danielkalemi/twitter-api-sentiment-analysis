{
 "cells": [
  {
   "cell_type": "markdown",
   "id": "7f842193",
   "metadata": {},
   "source": [
    "# Environment setup"
   ]
  },
  {
   "cell_type": "code",
   "execution_count": 1,
   "id": "d3217f72",
   "metadata": {},
   "outputs": [],
   "source": [
    "# import required modules\n",
    "import nltk\n",
    "from nltk.corpus import stopwords\n",
    "from nltk.tag import pos_tag\n",
    "from nltk.stem.wordnet import WordNetLemmatizer\n",
    "from nltk.corpus import twitter_samples\n",
    "\n",
    "import re\n",
    "import pickle\n",
    "import matplotlib\n",
    "import random\n",
    "\n",
    "from nltk import classify\n",
    "from nltk import NaiveBayesClassifier\n"
   ]
  },
  {
   "cell_type": "code",
   "execution_count": 2,
   "id": "9fa771c6",
   "metadata": {},
   "outputs": [
    {
     "name": "stderr",
     "output_type": "stream",
     "text": [
      "[nltk_data] Downloading package punkt to\n",
      "[nltk_data]     /Users/danielkalemi/nltk_data...\n",
      "[nltk_data]   Unzipping tokenizers/punkt.zip.\n",
      "[nltk_data] Downloading package stopwords to\n",
      "[nltk_data]     /Users/danielkalemi/nltk_data...\n",
      "[nltk_data]   Unzipping corpora/stopwords.zip.\n",
      "[nltk_data] Downloading package wordnet to\n",
      "[nltk_data]     /Users/danielkalemi/nltk_data...\n",
      "[nltk_data]   Unzipping corpora/wordnet.zip.\n",
      "[nltk_data] Downloading package averaged_perceptron_tagger to\n",
      "[nltk_data]     /Users/danielkalemi/nltk_data...\n",
      "[nltk_data]   Unzipping taggers/averaged_perceptron_tagger.zip.\n",
      "[nltk_data] Downloading package twitter_samples to\n",
      "[nltk_data]     /Users/danielkalemi/nltk_data...\n",
      "[nltk_data]   Unzipping corpora/twitter_samples.zip.\n"
     ]
    },
    {
     "data": {
      "text/plain": [
       "True"
      ]
     },
     "execution_count": 2,
     "metadata": {},
     "output_type": "execute_result"
    }
   ],
   "source": [
    "# Download module packages\n",
    "nltk.download('punkt')\n",
    "nltk.download('stopwords')\n",
    "nltk.download('wordnet')\n",
    "nltk.download('averaged_perceptron_tagger')\n",
    "nltk.download('twitter_samples')\n"
   ]
  },
  {
   "cell_type": "markdown",
   "id": "8f8bfbfb",
   "metadata": {},
   "source": [
    "# Required functions"
   ]
  },
  {
   "cell_type": "code",
   "execution_count": 3,
   "id": "542fb1c5",
   "metadata": {},
   "outputs": [],
   "source": [
    "# functions that cleans and applies lemmatization\n",
    "# input: list of tokens\n",
    "# Output: list of tokens \n",
    "def normalize_tweet(tweet_tokens):\n",
    "    clean_tokens = []\n",
    "\n",
    "    for token, tag in pos_tag(tweet_tokens):\n",
    "        token = re.sub('http[s]?://(?:[a-zA-Z]|[0-9]|[$-_@.&+#]|[!*\\(\\),]|(?:%[0-9a-fA-F][0-9a-fA-F]))+','', token)\n",
    "        token = re.sub('(@[A-Za-z0-9_]+)','', token)\n",
    "        token = re.sub('(#[A-Za-z0-9_]+)','', token)\n",
    "\n",
    "        if tag.startswith('NN'):\n",
    "            pos = 'n'\n",
    "        elif tag.startswith('VB'):\n",
    "            pos = 'v'\n",
    "        else:\n",
    "            pos = 'a'\n",
    "\n",
    "        lemmatizer = WordNetLemmatizer()\n",
    "        token = lemmatizer.lemmatize(token, pos)\n",
    "        \n",
    "        clean_tokens.append(token)\n",
    "\n",
    "    return clean_tokens\n"
   ]
  },
  {
   "cell_type": "code",
   "execution_count": 4,
   "id": "d410f3b4",
   "metadata": {},
   "outputs": [],
   "source": [
    "# function that removes stopwords and normalizes\n",
    "# input: list of tokenized tweets (list of tokens) i.e. list of lists , list of stopwords\n",
    "# output: list of clean tokens\n",
    "\n",
    "def clean_sample_tokens(tokens, stpwrds):\n",
    "    clean=[]\n",
    "    for t in tokens:\n",
    "        # get list of salient words\n",
    "        salient_words = [word for word in t if (word not in stpwrds)]\n",
    "\n",
    "        cc = normalize_tweet(salient_words)\n",
    "        sw = [w for w in cc if len(w)>1]\n",
    "\n",
    "        clean.append(sw)\n",
    "    return clean"
   ]
  },
  {
   "cell_type": "code",
   "execution_count": 5,
   "id": "1dafa6be",
   "metadata": {},
   "outputs": [],
   "source": [
    "# generator function that yields a dictionary as an input for NaiveBayesClassifier\n",
    "# input: list of tokens\n",
    "# output: dictionary of [token, bool]\n",
    "def generate_token_dict (tokens_list):\n",
    "    for tokens in tokens_list:\n",
    "        yield dict([token, True] for token in tokens)\n",
    "        "
   ]
  },
  {
   "cell_type": "markdown",
   "id": "589df21c",
   "metadata": {},
   "source": [
    "# Clean Training and Testing Datasets"
   ]
  },
  {
   "cell_type": "code",
   "execution_count": 6,
   "id": "011aab65",
   "metadata": {},
   "outputs": [],
   "source": [
    "# tokenize positive and negative samples\n",
    "# nltk gives us a function to do just twitter sample tokenizing\n",
    "positive_tweets = twitter_samples.tokenized('positive_tweets.json')\n",
    "negative_tweets = twitter_samples.tokenized('negative_tweets.json')\n"
   ]
  },
  {
   "cell_type": "code",
   "execution_count": 7,
   "id": "ea131f5c",
   "metadata": {},
   "outputs": [
    {
     "data": {
      "text/plain": [
       "[['#FollowFriday',\n",
       "  '@France_Inte',\n",
       "  '@PKuchly57',\n",
       "  '@Milipol_Paris',\n",
       "  'for',\n",
       "  'being',\n",
       "  'top',\n",
       "  'engaged',\n",
       "  'members',\n",
       "  'in',\n",
       "  'my',\n",
       "  'community',\n",
       "  'this',\n",
       "  'week',\n",
       "  ':)'],\n",
       " ['@Lamb2ja',\n",
       "  'Hey',\n",
       "  'James',\n",
       "  '!',\n",
       "  'How',\n",
       "  'odd',\n",
       "  ':/',\n",
       "  'Please',\n",
       "  'call',\n",
       "  'our',\n",
       "  'Contact',\n",
       "  'Centre',\n",
       "  'on',\n",
       "  '02392441234',\n",
       "  'and',\n",
       "  'we',\n",
       "  'will',\n",
       "  'be',\n",
       "  'able',\n",
       "  'to',\n",
       "  'assist',\n",
       "  'you',\n",
       "  ':)',\n",
       "  'Many',\n",
       "  'thanks',\n",
       "  '!']]"
      ]
     },
     "execution_count": 7,
     "metadata": {},
     "output_type": "execute_result"
    }
   ],
   "source": [
    "positive_tweets[:2]"
   ]
  },
  {
   "cell_type": "code",
   "execution_count": 8,
   "id": "567771fd",
   "metadata": {},
   "outputs": [],
   "source": [
    "# import stopwords into a list \n",
    "stpwrds = stopwords.words('english')"
   ]
  },
  {
   "cell_type": "code",
   "execution_count": 9,
   "id": "13ae953b",
   "metadata": {},
   "outputs": [],
   "source": [
    "# Clean positive and Negative tweets by calling clean_sample_tokens(tokens, stpwrds)\n",
    "clean_pos = clean_sample_tokens(positive_tweets, stpwrds)\n",
    "clean_neg = clean_sample_tokens(negative_tweets, stpwrds)\n"
   ]
  },
  {
   "cell_type": "code",
   "execution_count": 10,
   "id": "fd7d591a",
   "metadata": {},
   "outputs": [
    {
     "data": {
      "text/plain": [
       "[['top', 'engage', 'member', 'community', 'week', ':)'],\n",
       " ['Hey',\n",
       "  'James',\n",
       "  'How',\n",
       "  'odd',\n",
       "  ':/',\n",
       "  'Please',\n",
       "  'call',\n",
       "  'Contact',\n",
       "  'Centre',\n",
       "  '02392441234',\n",
       "  'able',\n",
       "  'assist',\n",
       "  ':)',\n",
       "  'Many',\n",
       "  'thanks']]"
      ]
     },
     "execution_count": 10,
     "metadata": {},
     "output_type": "execute_result"
    }
   ],
   "source": [
    "clean_pos[:2]"
   ]
  },
  {
   "cell_type": "markdown",
   "id": "70f28dbe",
   "metadata": {},
   "source": [
    "# Prepare/Transform Training and Testing Datasets for ML"
   ]
  },
  {
   "cell_type": "code",
   "execution_count": 11,
   "id": "78b52ca0",
   "metadata": {},
   "outputs": [],
   "source": [
    "# prepare positive and negative dictionaries for model\n",
    "pos_dict = generate_token_dict(clean_pos)\n",
    "neg_dict = generate_token_dict(clean_neg)\n"
   ]
  },
  {
   "cell_type": "code",
   "execution_count": 12,
   "id": "76ea5c3b",
   "metadata": {},
   "outputs": [],
   "source": [
    "# Label the positive and negative datasets accordingly\n",
    "pos_dataset = [(pos,'Positive') for pos in pos_dict]\n",
    "neg_dataset = [(neg,'Negative') for neg in neg_dict]\n"
   ]
  },
  {
   "cell_type": "code",
   "execution_count": 13,
   "id": "699c2097",
   "metadata": {},
   "outputs": [],
   "source": [
    "# Build the final ML dataset\n",
    "fullset = pos_dataset + neg_dataset\n",
    "\n",
    "# dataset is ordered --> positives and then negatives; hence will shuffle to remove order\n",
    "random.shuffle(fullset)"
   ]
  },
  {
   "cell_type": "code",
   "execution_count": 14,
   "id": "7f2d288a",
   "metadata": {},
   "outputs": [],
   "source": [
    "# Split dataset into training and test sets based on a 70:30 ratio\n",
    "cutoff = round(len(fullset)*0.7)\n",
    "trainset = fullset[:cutoff]\n",
    "testset = fullset[cutoff:]\n"
   ]
  },
  {
   "cell_type": "markdown",
   "id": "db933377",
   "metadata": {},
   "source": [
    "# Build Naive Bayes Classifier Model"
   ]
  },
  {
   "cell_type": "code",
   "execution_count": 15,
   "id": "fd4baae5",
   "metadata": {},
   "outputs": [
    {
     "name": "stdout",
     "output_type": "stream",
     "text": [
      "Accuracy:  0.997\n"
     ]
    }
   ],
   "source": [
    "# Use NaiveBayesClassifier class\n",
    "# Use .train() to train the training dataset \n",
    "# Use .accuracy() to test our model on the test set\n",
    "\n",
    "classifier = NaiveBayesClassifier.train(trainset)\n",
    "\n",
    "# check model accuracy by applying it to the test set\n",
    "print('Accuracy: ', classify.accuracy(classifier, testset))"
   ]
  },
  {
   "cell_type": "markdown",
   "id": "c9a948ec",
   "metadata": {},
   "source": [
    "# Prep our Tweets for ML"
   ]
  },
  {
   "cell_type": "code",
   "execution_count": 16,
   "id": "c2716888",
   "metadata": {},
   "outputs": [],
   "source": [
    "# unpickle our tweets file\n",
    "with open('tweets.pickle','rb') as f:\n",
    "    tweets = pickle.load(f)\n"
   ]
  },
  {
   "cell_type": "code",
   "execution_count": 17,
   "id": "0ba18c88",
   "metadata": {},
   "outputs": [],
   "source": [
    "# tokenize each tweet\n",
    "tweet_tokens=[]\n",
    "for tweet in tweets:\n",
    "    tweet_tokens.append(nltk.word_tokenize(tweet))"
   ]
  },
  {
   "cell_type": "code",
   "execution_count": 18,
   "id": "45a9888a",
   "metadata": {},
   "outputs": [],
   "source": [
    "# clean our tweets\n",
    "clean_tweets = clean_sample_tokens(tweet_tokens, stpwrds)"
   ]
  },
  {
   "cell_type": "markdown",
   "id": "f4a8c3a7",
   "metadata": {},
   "source": [
    "# Apply the model to our list of clean tweet tokens"
   ]
  },
  {
   "cell_type": "code",
   "execution_count": 19,
   "id": "e5ef6e75",
   "metadata": {},
   "outputs": [],
   "source": [
    "# create the required dictionary\n",
    "tweet_dict = generate_token_dict(clean_tweets)\n",
    "\n",
    "# score board\n",
    "scores = {'positives':0, 'negatives':0}\n",
    "\n",
    "# classify each tweet and update the score board\n",
    "for td in tweet_dict:\n",
    "    sentiment = classifier.classify(td)\n",
    "    if sentiment == 'Positive':\n",
    "        scores['positives']+=1\n",
    "    elif sentiment == 'Negative':\n",
    "        scores['negatives']+=1\n",
    "        \n"
   ]
  },
  {
   "cell_type": "code",
   "execution_count": 20,
   "id": "81d09c2b",
   "metadata": {},
   "outputs": [
    {
     "name": "stdout",
     "output_type": "stream",
     "text": [
      "67.0% positives and 33.0% negative\n"
     ]
    }
   ],
   "source": [
    "pos = float(scores['positives'])\n",
    "neg = float(scores['negatives'])\n",
    "\n",
    "tot = pos+neg\n",
    "print(f'{round(pos/tot,2)*100}% positives and {round(neg/tot,2)*100}% negative')"
   ]
  },
  {
   "cell_type": "code",
   "execution_count": null,
   "id": "1415db70",
   "metadata": {},
   "outputs": [],
   "source": []
  }
 ],
 "metadata": {
  "kernelspec": {
   "display_name": "Python 3 (ipykernel)",
   "language": "python",
   "name": "python3"
  },
  "language_info": {
   "codemirror_mode": {
    "name": "ipython",
    "version": 3
   },
   "file_extension": ".py",
   "mimetype": "text/x-python",
   "name": "python",
   "nbconvert_exporter": "python",
   "pygments_lexer": "ipython3",
   "version": "3.9.7"
  }
 },
 "nbformat": 4,
 "nbformat_minor": 5
}
